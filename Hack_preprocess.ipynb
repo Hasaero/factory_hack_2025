{
 "cells": [
  {
   "cell_type": "code",
   "execution_count": 34,
   "id": "73d55ee8-9062-46a1-8435-0e3dd3e0ad78",
   "metadata": {},
   "outputs": [],
   "source": [
    "# DataFrame\n",
    "import pandas as pd\n",
    "import numpy as np\n",
    "\n",
    "# Visualization\n",
    "import matplotlib.pyplot as plt\n",
    "import matplotlib"
   ]
  },
  {
   "cell_type": "code",
   "execution_count": 49,
   "id": "52bca398",
   "metadata": {},
   "outputs": [],
   "source": [
    "def add_result(df):\n",
    "    result_mapping = {\n",
    "        '그루브깊이': ['그루브깊이1번_Result', '그루브깊이2번_Result', '그루브깊이3번_Result', '그루브깊이4번_Result', '그루브깊이5번_Result'],\n",
    "        '위치도': ['위치도1번_Result', '위치도2번_Result', '위치도3번_Result', '위치도4번_Result', '위치도5번_Result'],\n",
    "        '진원도': ['진원도1번_Result', '진원도2번_Result', '진원도3번_Result', '진원도4번_Result', '진원도5번_Result'],\n",
    "        '그루브경': ['그루브경1번_Result', '그루브경2번_Result', '그루브경3번_Result', '그루브경4번_Result', '그루브경5번_Result']\n",
    "    }\n",
    "\n",
    "    # ***_Result 열 4개 추가\n",
    "    for new_col, related_cols in result_mapping.items():\n",
    "        df[f'{new_col}_Result'] = df[related_cols].apply(lambda x: 0 if (x == 0).any() else 1, axis=1)\n",
    "    \n",
    "    return df"
   ]
  },
  {
   "cell_type": "code",
   "execution_count": null,
   "id": "2c2fb03e",
   "metadata": {},
   "outputs": [],
   "source": [
    "def plot_features(serial_data):\n",
    "    \n",
    "    # 피처별 시각화\n",
    "    fig, axes = plt.subplots(len(feature_columns), 1, figsize=(10, len(feature_columns) * 2), sharex=True)\n",
    "    for i, column in enumerate(feature_columns):\n",
    "        axes[i].plot(serial_data.index, serial_data[column], color='b')\n",
    "        axes[i].set_title(column, fontsize=12)\n",
    "        axes[i].grid(True)\n",
    "        axes[i].set_ylabel(column, fontsize=10)\n",
    "    plt.xlabel('Index', fontsize=12)\n",
    "    plt.tight_layout(rect=[0, 0, 1, 0.96])  # suptitle 공간 확보\n",
    "    \n",
    "    return fig"
   ]
  },
  {
   "cell_type": "code",
   "execution_count": 1,
   "id": "46e51124",
   "metadata": {},
   "outputs": [
    {
     "name": "stderr",
     "output_type": "stream",
     "text": [
      "[NbConvertApp] Converting notebook Hack_preprocess.ipynb to script\n",
      "[NbConvertApp] Writing 6088 bytes to Hack_preprocess.py\n"
     ]
    }
   ],
   "source": [
    "!jupyter nbconvert --to script Hack_preprocess.ipynb"
   ]
  },
  {
   "cell_type": "code",
   "execution_count": null,
   "id": "407d275e",
   "metadata": {},
   "outputs": [],
   "source": []
  }
 ],
 "metadata": {
  "kernelspec": {
   "display_name": "dl_env",
   "language": "python",
   "name": "dl_env"
  },
  "language_info": {
   "codemirror_mode": {
    "name": "ipython",
    "version": 3
   },
   "file_extension": ".py",
   "mimetype": "text/x-python",
   "name": "python",
   "nbconvert_exporter": "python",
   "pygments_lexer": "ipython3",
   "version": "3.11.10"
  }
 },
 "nbformat": 4,
 "nbformat_minor": 5
}
